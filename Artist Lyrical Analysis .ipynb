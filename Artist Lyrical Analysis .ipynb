{
 "cells": [
  {
   "cell_type": "code",
   "execution_count": 18,
   "metadata": {},
   "outputs": [],
   "source": [
    "#############################\n",
    "#          Imports          #\n",
    "#############################\n",
    "\n",
    "import os\n",
    "import json\n",
    "import spotipy\n",
    "import numpy as np\n",
    "import spotipy.util as util\n",
    "import re\n",
    "import pandas as pd\n",
    "from bs4 import BeautifulSoup\n",
    "from json.decoder import JSONDecodeError\n",
    "import requests\n",
    "import seaborn as sns\n",
    "import matplotlib.pyplot as plt\n",
    "import nltk\n",
    "from nltk.corpus import stopwords\n"
   ]
  },
  {
   "cell_type": "code",
   "execution_count": 19,
   "metadata": {},
   "outputs": [
    {
     "name": "stdout",
     "output_type": "stream",
     "text": [
      "Successfully authenticated\n"
     ]
    }
   ],
   "source": [
    "#setting up some of the needed objects for Spotify API\n",
    "username = 'xxxxxx'\n",
    "my_client_id = 'xxxxxx'\n",
    "my_secret = 'xxxxxx'\n",
    "my_redirect_uri = 'xxxxxx'\n",
    "spotify = spotipy.Spotify()\n",
    "scope = 'user-library-read'\n",
    "\n",
    "#User permission\n",
    "try:\n",
    "    token = util.prompt_for_user_token(username, scope, my_client_id,\n",
    "                                       my_secret, redirect_uri = my_redirect_uri)\n",
    "except:\n",
    "    os.remove(f\".cache-{username}\")\n",
    "    token = util.prompt_for_user_token(username)\n",
    "    \n",
    "#getting authorization\n",
    "if token:\n",
    "    spotify_object = spotipy.Spotify(auth = token)\n",
    "    print('Successfully authenticated')\n",
    "else:\n",
    "    print('Cannot get token for', username)\n",
    "\n",
    "#saving user as an object\n",
    "user = spotify_object.current_user()\n",
    "\n",
    "#obtaining display name and follower count values for printing purposes\n",
    "displayName = user['display_name']\n",
    "follower_count = user['followers']['total']\n",
    "artist_name =  'John Mayer'\n"
   ]
  },
  {
   "cell_type": "code",
   "execution_count": 20,
   "metadata": {},
   "outputs": [
    {
     "name": "stdout",
     "output_type": "stream",
     "text": [
      ">>> Hello Yoon Sung Hong!\n",
      "Artist Name:  John Mayer\n",
      "Genres: neo mellow\n",
      "\n"
     ]
    }
   ],
   "source": [
    "print(\">>> Hello \" + displayName + \"!\")\n",
    "search_results = spotify_object.search(artist_name, 1, 0, \"artist\")\n",
    "artist = search_results['artists']['items'][0]\n",
    "print('Artist Name: ',artist['name'])\n",
    "print('Genres:',artist['genres'][0])\n",
    "#print('Genres:',artist['genres'][0].replace(' ', ', '))\n",
    "print()\n",
    "artistID = artist['id']\n",
    "\n",
    "#albums and tracks\n",
    "trackURIs = []\n",
    "\n",
    "album_results = spotify_object.artist_albums(artistID)\n",
    "album_results = album_results['items']\n",
    "\n",
    "for album in album_results:\n",
    "    albumID = album['id']\n",
    "    #extracting tracks\n",
    "    track_results = spotify_object.album_tracks(albumID)\n",
    "    track_results = track_results['items']\n",
    "    #nested iteration to add track uri to master list\n",
    "    for song in track_results:\n",
    "        #only appending songs where the artist is the main singer; i.e. first person listed as the artist, not feature\n",
    "        if (artist_name in song['artists'][0]['name']):\n",
    "            trackURIs.append(song['uri'])\n",
    "    \n",
    "    #if you want to include artists' collaborations and features, uncomment\n",
    "    #for song in track_results:\n",
    "        #for song_artist in song['artists']:\n",
    "            #if song_artist['name'] == artist_name:\n",
    "                #trackURIs.append(song['uri'])"
   ]
  },
  {
   "cell_type": "code",
   "execution_count": 21,
   "metadata": {
    "scrolled": true
   },
   "outputs": [],
   "source": [
    "#With Track URIs, getting song names\n",
    "#Initializing trackNames list\n",
    "trackNames = []\n",
    "for URI in trackURIs:\n",
    "    track = spotify_object.track(URI)\n",
    "    trackNames.append(track['name'])"
   ]
  },
  {
   "cell_type": "code",
   "execution_count": 22,
   "metadata": {},
   "outputs": [],
   "source": [
    "#########################\n",
    "# Using the Genius API  #\n",
    "#########################\n",
    "YOUR_CLIENT_ID = 'xxxxxx'\n",
    "genius_token = 'xxxxxx'\n",
    "base_url = \"http://api.genius.com\"\n",
    "search_url = base_url + \"/search\"\n",
    "headers = {'Authorization': 'Bearer ' + genius_token}\n",
    "def get_song_info(url, list_songs, headers):\n",
    "    songs = []\n",
    "    for song in list_songs:\n",
    "        data = {'q': song}\n",
    "        response = requests.get(url, params=data, headers=headers)\n",
    "        json = response.json()\n",
    "        #initializing song info\n",
    "        song_info = None\n",
    "        for hit in json[\"response\"][\"hits\"]:\n",
    "            #verifying the search result and its artist is the same as the artist of our choice (i.e. Frank Ocean)\n",
    "            if hit[\"result\"][\"primary_artist\"][\"name\"] == artist_name:\n",
    "                song_info = hit\n",
    "                break\n",
    "        if song_info:\n",
    "            #verifying that the song exists in Genius. If it exists, adds on to the list.\n",
    "            songs.append(song_info)\n",
    "    return songs\n",
    "songs = get_song_info(search_url, trackNames, headers)"
   ]
  },
  {
   "cell_type": "code",
   "execution_count": 23,
   "metadata": {},
   "outputs": [],
   "source": [
    "#finding the genius urls for all songs\n",
    "#initializing a dictionary\n",
    "url_dict = {}\n",
    "genius_url = []\n",
    "for song in songs:\n",
    "    url_extension = song['result']['path']\n",
    "    url = 'https://genius.com' + url_extension\n",
    "    genius_url.append(url)\n",
    "    url_dict[song['result']['title']] = url"
   ]
  },
  {
   "cell_type": "code",
   "execution_count": 24,
   "metadata": {},
   "outputs": [],
   "source": [
    "#getting lyrics\n",
    "lyrics_dict = {}\n",
    "for URL in genius_url:\n",
    "    page = requests.get(URL)\n",
    "    html = BeautifulSoup(page.text, \"html.parser\") # Extract the page's HTML as a string\n",
    "    # Scrape the song lyrics from the HTML\n",
    "    lyrics = html.find(\"div\", class_=\"lyrics\").get_text()\n",
    "    lyrics_dict[URL] = lyrics"
   ]
  },
  {
   "cell_type": "code",
   "execution_count": 25,
   "metadata": {},
   "outputs": [],
   "source": [
    "#storing every alphabet for later purposes\n",
    "english = \"a b c d e f g h i j k l m n o p q r s t u v w x y z A B C D E F G H I J K L M N O P Q R S T U V W X Y Z\".split()\n",
    "#initializing an array\n",
    "master_array = np.array([])\n",
    "#initializing a master string for later purposes\n",
    "master_string = \"\"\n",
    "#initializing a dictionary for unique words count for each song (to be used in exploratory analysis later)\n",
    "song_unique_dict = {}\n",
    "#iterating through each song (and its URL) and using regex expression to clean the lyrics data\n",
    "for URL in genius_url:\n",
    "    pretty = lyrics_dict[URL].replace(\"\\n\\n\", '').replace(\"\\n\", '. ')\n",
    "    pretty = re.sub(r'\\[.*?\\]', '', pretty)\n",
    "    pretty = re.sub(r'\\s+', ' ', pretty)\n",
    "    pretty = pretty.replace('\\'', '’')\n",
    "    master_string += pretty\n",
    "    word_list = pretty.lower().split()\n",
    "    #filtering only english lyrics (one of the songs, Nikes, contains Japanese lyrics)\n",
    "    is_english = [word[0] in english for word in word_list] \n",
    "    word_list = np.array(word_list)\n",
    "    #recording the number of unique words used per song \n",
    "    song_unique_dict[URL] = len(np.unique(word_list)) #may exclude some of the stop words\n",
    "    #appending the song lyrics to master array \n",
    "    master_array = np.append(master_array, word_list)\n",
    "#checking if the words are stopwords\n",
    "is_stopword = (np.isin(master_array, stopwords.words('english')) == False)\n",
    "#subsetting only those words that are not stopwords(according to nltk pkg)\n",
    "master_array = master_array[is_stopword]"
   ]
  },
  {
   "cell_type": "code",
   "execution_count": 26,
   "metadata": {},
   "outputs": [],
   "source": [
    "unique, counts = np.unique(master_array, return_counts=True)\n",
    "word_count = dict(zip(unique, counts))"
   ]
  },
  {
   "cell_type": "code",
   "execution_count": 27,
   "metadata": {},
   "outputs": [
    {
     "data": {
      "text/plain": [
       "2680"
      ]
     },
     "execution_count": 27,
     "metadata": {},
     "output_type": "execute_result"
    }
   ],
   "source": [
    "#displaying the dictionary in descending order of word counts\n",
    "word_count_ordered = []\n",
    "for i in sorted(word_count, key=word_count.get, reverse=True):\n",
    "    word_count_ordered.append(i + \": \" + str(word_count[i]))\n",
    "#number of different words used\n",
    "len(word_count_ordered)"
   ]
  },
  {
   "cell_type": "code",
   "execution_count": 28,
   "metadata": {},
   "outputs": [
    {
     "name": "stdout",
     "output_type": "stream",
     "text": [
      "Average # of words: 104.42241379310344 | Maximum # of words: 162\n"
     ]
    },
    {
     "data": {
      "text/plain": [
       "<matplotlib.axes._subplots.AxesSubplot at 0x1a1b2d0160>"
      ]
     },
     "execution_count": 28,
     "metadata": {},
     "output_type": "execute_result"
    },
    {
     "data": {
      "image/png": "[encoded data removed]",
      "text/plain": [
       "<matplotlib.figure.Figure at 0x1a1b321f98>"
      ]
     },
     "metadata": {},
     "output_type": "display_data"
    }
   ],
   "source": [
    "#average number of unique words used\n",
    "unique_mean = np.mean(list(song_unique_dict.values()))\n",
    "#maximum number of unique words used\n",
    "unique_max = np.max(list(song_unique_dict.values()))\n",
    "print(\"Average # of words:\", unique_mean, \"| \"\n",
    "     \"Maximum # of words:\", unique_max)\n",
    "#distribution of unique words used in each song\n",
    "sns.distplot(list(song_unique_dict.values()), bins = 10)"
   ]
  },
  {
   "cell_type": "code",
   "execution_count": 29,
   "metadata": {},
   "outputs": [
    {
     "data": {
      "text/plain": [
       "<matplotlib.axes._subplots.AxesSubplot at 0x1a1cbd0240>"
      ]
     },
     "execution_count": 29,
     "metadata": {},
     "output_type": "execute_result"
    },
    {
     "data": {
      "image/png": "[encoded data removed]",
      "text/plain": [
       "<matplotlib.figure.Figure at 0x1a1cb96a90>"
      ]
     },
     "metadata": {},
     "output_type": "display_data"
    }
   ],
   "source": [
    "#distribution of the word count (number of times a word was used in all Frank Ocean's songs)\n",
    "sns.distplot(list(word_count.values()), bins = 10) #excludes stop words"
   ]
  },
  {
   "cell_type": "code",
   "execution_count": 30,
   "metadata": {},
   "outputs": [
    {
     "data": {
      "text/html": [
       "<div>\n",
       "<style scoped>\n",
       "    .dataframe tbody tr th:only-of-type {\n",
       "        vertical-align: middle;\n",
       "    }\n",
       "\n",
       "    .dataframe tbody tr th {\n",
       "        vertical-align: top;\n",
       "    }\n",
       "\n",
       "    .dataframe thead th {\n",
       "        text-align: right;\n",
       "    }\n",
       "</style>\n",
       "<table border=\"1\" class=\"dataframe\">\n",
       "  <thead>\n",
       "    <tr style=\"text-align: right;\">\n",
       "      <th></th>\n",
       "      <th>song title</th>\n",
       "      <th>unique words count</th>\n",
       "    </tr>\n",
       "  </thead>\n",
       "  <tbody>\n",
       "    <tr>\n",
       "      <th>96</th>\n",
       "      <td>Split Screen Sadness</td>\n",
       "      <td>152</td>\n",
       "    </tr>\n",
       "    <tr>\n",
       "      <th>104</th>\n",
       "      <td>83</td>\n",
       "      <td>152</td>\n",
       "    </tr>\n",
       "    <tr>\n",
       "      <th>29</th>\n",
       "      <td>Walt Grace's Submarine Test, January 1967</td>\n",
       "      <td>150</td>\n",
       "    </tr>\n",
       "    <tr>\n",
       "      <th>48</th>\n",
       "      <td>Stop This Train</td>\n",
       "      <td>145</td>\n",
       "    </tr>\n",
       "    <tr>\n",
       "      <th>93</th>\n",
       "      <td>New Deep</td>\n",
       "      <td>143</td>\n",
       "    </tr>\n",
       "    <tr>\n",
       "      <th>99</th>\n",
       "      <td>No Such Thing</td>\n",
       "      <td>143</td>\n",
       "    </tr>\n",
       "    <tr>\n",
       "      <th>101</th>\n",
       "      <td>My Stupid Mouth</td>\n",
       "      <td>141</td>\n",
       "    </tr>\n",
       "    <tr>\n",
       "      <th>111</th>\n",
       "      <td>No such thing - demo version</td>\n",
       "      <td>140</td>\n",
       "    </tr>\n",
       "    <tr>\n",
       "      <th>112</th>\n",
       "      <td>My stupid mouth - demo version</td>\n",
       "      <td>139</td>\n",
       "    </tr>\n",
       "    <tr>\n",
       "      <th>19</th>\n",
       "      <td>Badge and Gun</td>\n",
       "      <td>134</td>\n",
       "    </tr>\n",
       "    <tr>\n",
       "      <th>109</th>\n",
       "      <td>St. Patrick's Day</td>\n",
       "      <td>132</td>\n",
       "    </tr>\n",
       "    <tr>\n",
       "      <th>95</th>\n",
       "      <td>Home Life</td>\n",
       "      <td>131</td>\n",
       "    </tr>\n",
       "    <tr>\n",
       "      <th>7</th>\n",
       "      <td>Never on the Day You Leave</td>\n",
       "      <td>127</td>\n",
       "    </tr>\n",
       "    <tr>\n",
       "      <th>114</th>\n",
       "      <td>Love soon - ep version</td>\n",
       "      <td>125</td>\n",
       "    </tr>\n",
       "    <tr>\n",
       "      <th>92</th>\n",
       "      <td>Something's Missing</td>\n",
       "      <td>123</td>\n",
       "    </tr>\n",
       "    <tr>\n",
       "      <th>18</th>\n",
       "      <td>You're No One 'Til Someone Lets You Down</td>\n",
       "      <td>122</td>\n",
       "    </tr>\n",
       "    <tr>\n",
       "      <th>33</th>\n",
       "      <td>Heartbreak Warfare</td>\n",
       "      <td>122</td>\n",
       "    </tr>\n",
       "    <tr>\n",
       "      <th>30</th>\n",
       "      <td>Whiskey, Whiskey, Whiskey</td>\n",
       "      <td>121</td>\n",
       "    </tr>\n",
       "    <tr>\n",
       "      <th>20</th>\n",
       "      <td>On The Way Home</td>\n",
       "      <td>121</td>\n",
       "    </tr>\n",
       "    <tr>\n",
       "      <th>49</th>\n",
       "      <td>Slow Dancing in a Burning Room</td>\n",
       "      <td>119</td>\n",
       "    </tr>\n",
       "  </tbody>\n",
       "</table>\n",
       "</div>"
      ],
      "text/plain": [
       "                                    song title  unique words count\n",
       "96                        Split Screen Sadness                 152\n",
       "104                                         83                 152\n",
       "29   Walt Grace's Submarine Test, January 1967                 150\n",
       "48                             Stop This Train                 145\n",
       "93                                    New Deep                 143\n",
       "99                               No Such Thing                 143\n",
       "101                            My Stupid Mouth                 141\n",
       "111               No such thing - demo version                 140\n",
       "112             My stupid mouth - demo version                 139\n",
       "19                               Badge and Gun                 134\n",
       "109                          St. Patrick's Day                 132\n",
       "95                                   Home Life                 131\n",
       "7                   Never on the Day You Leave                 127\n",
       "114                     Love soon - ep version                 125\n",
       "92                         Something's Missing                 123\n",
       "18    You're No One 'Til Someone Lets You Down                 122\n",
       "33                          Heartbreak Warfare                 122\n",
       "30                   Whiskey, Whiskey, Whiskey                 121\n",
       "20                             On The Way Home                 121\n",
       "49              Slow Dancing in a Burning Room                 119"
      ]
     },
     "execution_count": 30,
     "metadata": {},
     "output_type": "execute_result"
    }
   ],
   "source": [
    "#creating a new unique words count dictionary, but with song title instead of URL as key this time\n",
    "song_unique_dict_new = {'song title': list(url_dict.keys()), 'unique words count': list(song_unique_dict.values())}\n",
    "#converting dictionary into data frame\n",
    "song_unique_df = pd.DataFrame(data = song_unique_dict_new)\n",
    "#taking out songs that were performed live - which are essentially duplicates\n",
    "song_unique_df = song_unique_df[song_unique_df[\"song title\"].str.contains(\"live\") == False]\n",
    "#ordering the data frame by unique words count, descending. displaying first 20 songs\n",
    "song_unique_df.sort_values(by='unique words count', ascending=False).head(20)"
   ]
  },
  {
   "cell_type": "code",
   "execution_count": 31,
   "metadata": {},
   "outputs": [],
   "source": [
    "#############################\n",
    "#  Named Entity Recognition #\n",
    "#############################\n",
    "#using stanford's NER tool\n",
    "from nltk.tag.stanford import StanfordNERTagger\n",
    "st = StanfordNERTagger('/Users/yoonsunghong/stanford-corenlp/stanford-ner/classifiers/english.all.3class.distsim.crf.ser.gz',\n",
    "               '/Users/yoonsunghong/stanford-corenlp/stanford-ner/stanford-ner.jar')"
   ]
  },
  {
   "cell_type": "code",
   "execution_count": 32,
   "metadata": {},
   "outputs": [
    {
     "data": {
      "text/plain": [
       "[('Paris', 'LOCATION'),\n",
       " ('Ohio', 'LOCATION'),\n",
       " ('Paris', 'LOCATION'),\n",
       " ('California', 'LOCATION'),\n",
       " ('Neil', 'PERSON'),\n",
       " ('Young', 'PERSON'),\n",
       " ('California', 'LOCATION'),\n",
       " ('Joni', 'PERSON'),\n",
       " ('California', 'LOCATION'),\n",
       " ('Olivia', 'PERSON'),\n",
       " ('Olivia.', 'LOCATION'),\n",
       " ('Something', 'LOCATION'),\n",
       " ('Tokyo.', 'ORGANIZATION'),\n",
       " ('Cause', 'ORGANIZATION'),\n",
       " ('New', 'LOCATION'),\n",
       " ('York', 'LOCATION'),\n",
       " ('New', 'LOCATION'),\n",
       " ('York', 'LOCATION'),\n",
       " ('Baton', 'LOCATION'),\n",
       " ('Rouge.', 'LOCATION'),\n",
       " ('New', 'LOCATION'),\n",
       " ('York', 'LOCATION'),\n",
       " ('Austin', 'LOCATION'),\n",
       " ('Japan', 'LOCATION'),\n",
       " ('New', 'LOCATION'),\n",
       " ('York', 'LOCATION'),\n",
       " ('euphoria.', 'LOCATION'),\n",
       " ('Orange', 'LOCATION'),\n",
       " ('Miles', 'PERSON'),\n",
       " ('Miles', 'PERSON'),\n",
       " ('Tori', 'PERSON'),\n",
       " ('Tori', 'PERSON'),\n",
       " ('Tori', 'PERSON'),\n",
       " ('Tori', 'PERSON'),\n",
       " ('Tori', 'PERSON'),\n",
       " ('Tori', 'PERSON'),\n",
       " ('Tori', 'PERSON'),\n",
       " ('Tori', 'PERSON'),\n",
       " ('Tori', 'PERSON')]"
      ]
     },
     "execution_count": 32,
     "metadata": {},
     "output_type": "execute_result"
    }
   ],
   "source": [
    "#using st.tag to create list with tupled categorization for entities\n",
    "tag_lyrics = st.tag(master_string.split())\n",
    "#filtering out the non named entities\n",
    "named_e = [t for t in tag_lyrics if t[1] != 'O']\n",
    "named_e"
   ]
  },
  {
   "cell_type": "markdown",
   "metadata": {},
   "source": [
    "Notice how certain words are repeated in the list, suggesting that the named entity word appears multiple times in a song. Good example would be the word 'Tori', which is used exclusively in a song called 'Victoria' in the repeated choruses.\n",
    "\n",
    "Also, notice how New and York have been categorized as two separate entities rather than one. We can fix this manually in the code later."
   ]
  },
  {
   "cell_type": "code",
   "execution_count": 33,
   "metadata": {},
   "outputs": [
    {
     "data": {
      "image/png": "[encoded data removed]",
      "text/plain": [
       "<matplotlib.figure.Figure at 0x112dd6470>"
      ]
     },
     "metadata": {},
     "output_type": "display_data"
    }
   ],
   "source": [
    "#counting the number of entities\n",
    "list_named_count = [len([t for t in named_e if t[1] == 'LOCATION']), \n",
    "                   len([t for t in named_e if t[1] == 'PERSON']),\n",
    "                   len([t for t in named_e if t[1] == 'ORGANIZATION'])]\n",
    "list_named_names = ['Location', 'Person', 'Organization']\n",
    "y_pos = np.arange(len(list_named_names))\n",
    "\n",
    "plt.bar(y_pos, list_named_count, align = 'center', alpha=0.5)\n",
    "plt.xticks(y_pos, list_named_names)\n",
    "plt.ylabel('Count')\n",
    "plt.title('Named Entity Recognition Counts for John Mayer, Categorized')\n",
    "plt.show()"
   ]
  },
  {
   "cell_type": "markdown",
   "metadata": {},
   "source": [
    "We can see from the barplot above that despite John Mayer having 100+ unique songs, he does not use named entities frequently in his songs. Therefore, it makes further analysis using Named Entity Recognition very difficult."
   ]
  },
  {
   "cell_type": "code",
   "execution_count": null,
   "metadata": {},
   "outputs": [],
   "source": []
  }
 ],
 "metadata": {
  "kernelspec": {
   "display_name": "Python 3",
   "language": "python",
   "name": "python3"
  },
  "language_info": {
   "codemirror_mode": {
    "name": "ipython",
    "version": 3
   },
   "file_extension": ".py",
   "mimetype": "text/x-python",
   "name": "python",
   "nbconvert_exporter": "python",
   "pygments_lexer": "ipython3",
   "version": "3.6.4"
  }
 },
 "nbformat": 4,
 "nbformat_minor": 2
}
